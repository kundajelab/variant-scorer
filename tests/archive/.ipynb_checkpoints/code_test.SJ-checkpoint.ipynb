{
 "cells": [
  {
   "cell_type": "code",
   "execution_count": 2,
   "id": "9d886fb4",
   "metadata": {},
   "outputs": [
    {
     "name": "stderr",
     "output_type": "stream",
     "text": [
      "2025-07-24 16:05:55.355173: W tensorflow/stream_executor/platform/default/dso_loader.cc:64] Could not load dynamic library 'libcudart.so.11.0'; dlerror: libcudart.so.11.0: cannot open shared object file: No such file or directory; LD_LIBRARY_PATH: /share/software/user/open/glpk/4.63/lib:/share/software/user/open/R/4.1.2/lib64/R/lib:/share/software/user/open/readline/7.0/lib:/share/software/user/open/gsl/2.3/lib:/share/software/user/open/texinfo/6.6/lib:/share/software/user/open/libtiff/4.0.8/lib:/share/software/user/open/curl/8.4.0/lib:/share/software/user/open/pcre2/10.35/lib:/share/software/user/open/libjpeg-turbo/1.5.1/lib:/share/software/user/open/tcltk/8.6.6/lib:/share/software/user/open/java/11.0.11/lib/server:/share/software/user/open/java/11.0.11/lib/jli:/share/software/user/open/java/11.0.11/lib:/share/software/user/open/openblas/0.3.10/lib:/share/software/user/open/gcc/10.1.0/lib64:/share/software/user/open/gcc/10.1.0/lib/gcc/x86_64-pc-linux-gnu:/share/software/user/open/gcc/10.1.0/lib:/share/software/user/open/postgresql/14.5/lib:/share/software/user/open/nodejs/20.18.0/lib:/share/software/user/open/imagemagick/7.1.1-43/lib:/share/software/user/open/graphviz/2.44.1/lib:/share/software/user/open/fftw/3.3.9/lib:/share/software/user/open/perl/5.26.0/lib:/share/software/user/open/pango/1.40.10/lib:/share/software/user/open/freetype/2.8.1/lib:/share/software/user/open/openssl/3.0.7/lib64:/share/software/user/open/xz/5.2.3/lib:/share/software/user/open/fribidi/1.0.12/lib:/share/software/user/open/harfbuzz/1.4.8/lib:/share/software/user/open/icu/59.1/lib:/share/software/user/open/hdf5/1.10.6/lib:/share/software/user/open/szip/2.1.1/lib:/share/software/user/open/openmpi/4.0.3/lib:/share/software/user/open/ucx/1.8.1/lib:/share/software/user/open/libfabric/1.9.1/lib:/usr/lib64/nvidia:/share/software/user/open/cuda/10.2.89/targets/x86_64-linux/lib:/share/software/user/open/cuda/10.2.89/lib64:/share/software/user/open/cuda/10.2.89/nvvm/lib64:/share/software/user/open/cuda/10.2.89/extras/Debugger/lib64:/share/software/user/open/cuda/10.2.89/extras/CUPTI/lib64:/share/software/user/open/cairo/1.14.10/lib:/share/software/user/open/gobject-introspection/1.52.1/lib:/share/software/user/open/glib/2.52.3/lib:/share/software/user/open/libffi/3.2.1/lib64:/share/software/user/open/fontconfig/2.12.4/lib:/share/software/user/open/x11/7.7/lib:/share/software/user/open/libxkbcommon/0.9.1/lib64:/share/software/user/open/llvm/4.0.0/lib:/share/software/user/open/libxml2/2.9.4/lib:/share/software/user/open/libpng/1.2.57/lib:/share/software/user/open/zlib/1.2.11/lib\n",
      "2025-07-24 16:05:55.355232: I tensorflow/stream_executor/cuda/cudart_stub.cc:29] Ignore above cudart dlerror if you do not have a GPU set up on your machine.\n"
     ]
    }
   ],
   "source": [
    "import numpy as np\n",
    "import pandas as pd\n",
    "import tensorflow as tf\n",
    "from typing import Any\n",
    "import pyfaidx\n",
    "import os\n",
    "\n",
    "# os.environ[\"CUDA_VISIBLE_DEVICES\"] = \"0\"\n",
    "np.random.seed(1234)"
   ]
  },
  {
   "cell_type": "code",
   "execution_count": 4,
   "id": "8ccaa9c2-6ae5-4cbf-802a-2023898a3ee5",
   "metadata": {},
   "outputs": [],
   "source": [
    "pd.set_option('display.max_rows', 500)\n",
    "pd.set_option('display.max_columns', 500)\n",
    "pd.set_option('display.width', 1000)"
   ]
  },
  {
   "cell_type": "code",
   "execution_count": 5,
   "id": "56ee2c67",
   "metadata": {},
   "outputs": [],
   "source": [
    "ALPHABET = np.array([\"A\", \"C\", \"G\", \"T\"], dtype=\"S1\")\n",
    "GENOME_FA = \"/oak/stanford/groups/akundaje/soumyak/refs/hg38/GRCh38_no_alt_analysis_set_GCA_000001405.15.fasta\"\n",
    "AFRICAN_DATASET_PATH = \"/oak/stanford/groups/akundaje/soumyak/scratch/dart_test/data/Afr.CaQTLS.tsv\"\n",
    "BASE_MODEL_DIR = \"/oak/stanford/groups/akundaje/soumyak/scratch/dart_test/models\"\n",
    "EXPERIMENT_ID = \"ENCSR000EMT\"\n",
    "MODEL_TYPE = \"chrombpnet_nobias\"\n",
    "WINDOW = 2114\n",
    "SEQ_EXT = WINDOW // 2"
   ]
  },
  {
   "cell_type": "code",
   "execution_count": 6,
   "id": "2cef6f49",
   "metadata": {},
   "outputs": [],
   "source": [
    "african_df = pd.read_csv(AFRICAN_DATASET_PATH, sep=\"\\t\")\n",
    "# sig_african_df = african_df[(african_df.IsUsed == True)]\n",
    "# sig_african_df = sig_african_df[sig_african_df.label == 1]"
   ]
  },
  {
   "cell_type": "markdown",
   "id": "0c4514db-2bdb-40ee-ac73-1ebc154c6ed7",
   "metadata": {},
   "source": [
    "Pick a few variants with significant effects."
   ]
  },
  {
   "cell_type": "code",
   "execution_count": 8,
   "id": "adfbf7bf-e5c2-4226-a8fd-117b76201010",
   "metadata": {},
   "outputs": [],
   "source": [
    "rsids_keep = [ \"rs28540380\", \"rs141671872\", \"rs7417106\", \"rs3121577\", \"rs2465131\", \"rs5768155\",\n",
    "    \"rs5768156\", \"rs5768157\", \"rs9616382\", \"rs9627800\"]"
   ]
  },
  {
   "cell_type": "code",
   "execution_count": 9,
   "id": "0344c323-3b12-4053-9f78-811e313cf108",
   "metadata": {},
   "outputs": [
    {
     "data": {
      "text/html": [
       "<div>\n",
       "<style scoped>\n",
       "    .dataframe tbody tr th:only-of-type {\n",
       "        vertical-align: middle;\n",
       "    }\n",
       "\n",
       "    .dataframe tbody tr th {\n",
       "        vertical-align: top;\n",
       "    }\n",
       "\n",
       "    .dataframe thead th {\n",
       "        text-align: right;\n",
       "    }\n",
       "</style>\n",
       "<table border=\"1\" class=\"dataframe\">\n",
       "  <thead>\n",
       "    <tr style=\"text-align: right;\">\n",
       "      <th></th>\n",
       "      <th>dbsnp_rsid</th>\n",
       "      <th>chrombpnet.encsr000emt.variantscore.logfc</th>\n",
       "    </tr>\n",
       "  </thead>\n",
       "  <tbody>\n",
       "    <tr>\n",
       "      <th>9</th>\n",
       "      <td>rs28540380</td>\n",
       "      <td>-0.079933</td>\n",
       "    </tr>\n",
       "    <tr>\n",
       "      <th>12</th>\n",
       "      <td>rs141671872</td>\n",
       "      <td>0.208980</td>\n",
       "    </tr>\n",
       "    <tr>\n",
       "      <th>26</th>\n",
       "      <td>rs7417106</td>\n",
       "      <td>0.082127</td>\n",
       "    </tr>\n",
       "    <tr>\n",
       "      <th>60</th>\n",
       "      <td>rs3121577</td>\n",
       "      <td>0.027894</td>\n",
       "    </tr>\n",
       "    <tr>\n",
       "      <th>61</th>\n",
       "      <td>rs2465131</td>\n",
       "      <td>-0.034397</td>\n",
       "    </tr>\n",
       "    <tr>\n",
       "      <th>219129</th>\n",
       "      <td>rs5768155</td>\n",
       "      <td>0.047690</td>\n",
       "    </tr>\n",
       "    <tr>\n",
       "      <th>219131</th>\n",
       "      <td>rs5768156</td>\n",
       "      <td>0.327306</td>\n",
       "    </tr>\n",
       "    <tr>\n",
       "      <th>219133</th>\n",
       "      <td>rs5768157</td>\n",
       "      <td>0.045036</td>\n",
       "    </tr>\n",
       "    <tr>\n",
       "      <th>219226</th>\n",
       "      <td>rs9616382</td>\n",
       "      <td>0.011548</td>\n",
       "    </tr>\n",
       "    <tr>\n",
       "      <th>219231</th>\n",
       "      <td>rs9627800</td>\n",
       "      <td>0.018346</td>\n",
       "    </tr>\n",
       "  </tbody>\n",
       "</table>\n",
       "</div>"
      ],
      "text/plain": [
       "         dbsnp_rsid  chrombpnet.encsr000emt.variantscore.logfc\n",
       "9        rs28540380                                  -0.079933\n",
       "12      rs141671872                                   0.208980\n",
       "26        rs7417106                                   0.082127\n",
       "60        rs3121577                                   0.027894\n",
       "61        rs2465131                                  -0.034397\n",
       "219129    rs5768155                                   0.047690\n",
       "219131    rs5768156                                   0.327306\n",
       "219133    rs5768157                                   0.045036\n",
       "219226    rs9616382                                   0.011548\n",
       "219231    rs9627800                                   0.018346"
      ]
     },
     "execution_count": 9,
     "metadata": {},
     "output_type": "execute_result"
    }
   ],
   "source": [
    "sig_african_df = african_df[african_df['dbsnp_rsid'].isin(rsids_keep)]\n",
    "sig_african_df[[\"dbsnp_rsid\", \"chrombpnet.encsr000emt.variantscore.logfc\"]]"
   ]
  },
  {
   "cell_type": "markdown",
   "id": "dd1b6680",
   "metadata": {},
   "source": [
    "## Variant Scorer with RevComp"
   ]
  },
  {
   "cell_type": "code",
   "execution_count": 10,
   "id": "9bedfe1e",
   "metadata": {},
   "outputs": [],
   "source": [
    "def dna_to_one_hot(seqs):\n",
    "    \"\"\"\n",
    "    Converts a list of DNA (\"ACGT\") sequences to one-hot encodings, where the\n",
    "    position of 1s is ordered alphabetically by \"ACGT\". `seqs` must be a list\n",
    "    of N strings, where every string is the same length L. Returns an N x L x 4\n",
    "    NumPy array of one-hot encodings, in the same order as the input sequences.\n",
    "    All bases will be converted to upper-case prior to performing the encoding.\n",
    "    Any bases that are not \"ACGT\" will be given an encoding of all 0s.\n",
    "    \"\"\"\n",
    "    seq_len = len(seqs[0])\n",
    "    assert np.all(np.array([len(s) for s in seqs]) == seq_len)\n",
    "\n",
    "    # Join all sequences together into one long string, all uppercase\n",
    "    seq_concat = \"\".join(seqs).upper() + \"ACGT\"\n",
    "    # Add one example of each base, so np.unique doesn't miss indices later\n",
    "\n",
    "    one_hot_map = np.identity(5)[:, :-1].astype(np.int8)\n",
    "\n",
    "    # Convert string into array of ASCII character codes;\n",
    "    base_vals = np.frombuffer(bytearray(seq_concat, \"utf8\"), dtype=np.int8)\n",
    "\n",
    "    # Anything that's not an A, C, G, or T gets assigned a higher code\n",
    "    base_vals[~np.isin(base_vals, np.array([65, 67, 71, 84]))] = 85\n",
    "\n",
    "    # Convert the codes into indices in [0, 4], in ascending order by code\n",
    "    _, base_inds = np.unique(base_vals, return_inverse=True)\n",
    "\n",
    "    # Get the one-hot encoding for those indices, and reshape back to separate\n",
    "    return one_hot_map[base_inds[:-4]].reshape((len(seqs), seq_len, 4))\n",
    "\n",
    "def get_processed_sequences(df: pd.DataFrame=sig_african_df, genome_fa: str=GENOME_FA, idx:int = 0, revcomp: bool = True):\n",
    "    \"\"\"Fetch an item from the dataframe and process it to get both the allele1 and allele2 one hot encoded sequences.\"\"\"\n",
    "    chrom = df[\"chr_hg38\"].iloc[idx]\n",
    "    pos = df[\"pos_hg38\"].iloc[idx]\n",
    "    allele1 = df[\"allele1\"].iloc[idx]\n",
    "    allele2 = df[\"allele2\"].iloc[idx]\n",
    "\n",
    "    print(f\"{chrom} {pos} {allele1} {allele2}\")\n",
    "\n",
    "    ### 1 - indexed position \n",
    "    pos = pos - 1\n",
    "    genome = pyfaidx.Fasta(genome_fa, one_based_attributes=False)\n",
    "    flank_size = SEQ_EXT\n",
    "    \n",
    "    flank  = str(genome[chrom][pos-flank_size:pos+flank_size])\n",
    "    allele1_sequence = flank[:flank_size] + allele1 + flank[flank_size+len(allele1):]\n",
    "    allele2_sequence = flank[:flank_size] + allele2 + flank[flank_size+len(allele2):]\n",
    "\n",
    "    assert len(allele1_sequence) == flank_size * 2\n",
    "    assert len(allele2_sequence) == flank_size * 2\n",
    "\n",
    "    allele1_seq = dna_to_one_hot([allele1_sequence])[0]\n",
    "    allele2_seq = dna_to_one_hot([allele2_sequence])[0]\n",
    "\n",
    "    if revcomp:\n",
    "        revcomp_allele1_seq = allele1_seq[::-1, ::-1]\n",
    "        revcomp_allele2_seq = allele2_seq[::-1, ::-1]\n",
    "\n",
    "        return allele1_sequence, allele2_sequence, allele1_seq, allele2_seq, revcomp_allele1_seq, revcomp_allele2_seq\n",
    "\n",
    "    return allele1_sequence, allele2_sequence, allele1_seq, allele2_seq"
   ]
  },
  {
   "cell_type": "code",
   "execution_count": 11,
   "id": "2231a695",
   "metadata": {},
   "outputs": [
    {
     "name": "stdout",
     "output_type": "stream",
     "text": [
      "Starting variant scoring for 10 variants...\n",
      "Original table values will be taken from column: 'chrombpnet.encsr000emt.variantscore.logfc'\n",
      "Processing variant 1 of 10...\n",
      "chr1 906982 C T\n"
     ]
    },
    {
     "name": "stderr",
     "output_type": "stream",
     "text": [
      "2025-07-24 16:07:46.486166: W tensorflow/stream_executor/platform/default/dso_loader.cc:64] Could not load dynamic library 'libcuda.so.1'; dlerror: libcuda.so.1: cannot open shared object file: No such file or directory; LD_LIBRARY_PATH: /share/software/user/open/glpk/4.63/lib:/share/software/user/open/R/4.1.2/lib64/R/lib:/share/software/user/open/readline/7.0/lib:/share/software/user/open/gsl/2.3/lib:/share/software/user/open/texinfo/6.6/lib:/share/software/user/open/libtiff/4.0.8/lib:/share/software/user/open/curl/8.4.0/lib:/share/software/user/open/pcre2/10.35/lib:/share/software/user/open/libjpeg-turbo/1.5.1/lib:/share/software/user/open/tcltk/8.6.6/lib:/share/software/user/open/java/11.0.11/lib/server:/share/software/user/open/java/11.0.11/lib/jli:/share/software/user/open/java/11.0.11/lib:/share/software/user/open/openblas/0.3.10/lib:/share/software/user/open/gcc/10.1.0/lib64:/share/software/user/open/gcc/10.1.0/lib/gcc/x86_64-pc-linux-gnu:/share/software/user/open/gcc/10.1.0/lib:/share/software/user/open/postgresql/14.5/lib:/share/software/user/open/nodejs/20.18.0/lib:/share/software/user/open/imagemagick/7.1.1-43/lib:/share/software/user/open/graphviz/2.44.1/lib:/share/software/user/open/fftw/3.3.9/lib:/share/software/user/open/perl/5.26.0/lib:/share/software/user/open/pango/1.40.10/lib:/share/software/user/open/freetype/2.8.1/lib:/share/software/user/open/openssl/3.0.7/lib64:/share/software/user/open/xz/5.2.3/lib:/share/software/user/open/fribidi/1.0.12/lib:/share/software/user/open/harfbuzz/1.4.8/lib:/share/software/user/open/icu/59.1/lib:/share/software/user/open/hdf5/1.10.6/lib:/share/software/user/open/szip/2.1.1/lib:/share/software/user/open/openmpi/4.0.3/lib:/share/software/user/open/ucx/1.8.1/lib:/share/software/user/open/libfabric/1.9.1/lib:/usr/lib64/nvidia:/share/software/user/open/cuda/10.2.89/targets/x86_64-linux/lib:/share/software/user/open/cuda/10.2.89/lib64:/share/software/user/open/cuda/10.2.89/nvvm/lib64:/share/software/user/open/cuda/10.2.89/extras/Debugger/lib64:/share/software/user/open/cuda/10.2.89/extras/CUPTI/lib64:/share/software/user/open/cairo/1.14.10/lib:/share/software/user/open/gobject-introspection/1.52.1/lib:/share/software/user/open/glib/2.52.3/lib:/share/software/user/open/libffi/3.2.1/lib64:/share/software/user/open/fontconfig/2.12.4/lib:/share/software/user/open/x11/7.7/lib:/share/software/user/open/libxkbcommon/0.9.1/lib64:/share/software/user/open/llvm/4.0.0/lib:/share/software/user/open/libxml2/2.9.4/lib:/share/software/user/open/libpng/1.2.57/lib:/share/software/user/open/zlib/1.2.11/lib\n",
      "2025-07-24 16:07:46.486265: W tensorflow/stream_executor/cuda/cuda_driver.cc:269] failed call to cuInit: UNKNOWN ERROR (303)\n",
      "2025-07-24 16:07:46.486308: I tensorflow/stream_executor/cuda/cuda_diagnostics.cc:156] kernel driver does not appear to be running on this host (sh02-08n17.int): /proc/driver/nvidia/version does not exist\n",
      "2025-07-24 16:07:46.486981: I tensorflow/core/platform/cpu_feature_guard.cc:151] This TensorFlow binary is optimized with oneAPI Deep Neural Network Library (oneDNN) to use the following CPU instructions in performance-critical operations:  AVX2 AVX512F FMA\n",
      "To enable them in other operations, rebuild TensorFlow with the appropriate compiler flags.\n"
     ]
    },
    {
     "name": "stdout",
     "output_type": "stream",
     "text": [
      "Processing variant 2 of 10...\n",
      "chr1 921203 G A\n",
      "Processing variant 3 of 10...\n",
      "chr1 976215 A G\n",
      "Processing variant 4 of 10...\n",
      "chr1 1038800 T G\n",
      "Processing variant 5 of 10...\n",
      "chr1 1038819 T C\n",
      "Processing variant 6 of 10...\n",
      "chr22 47918570 C T\n",
      "Processing variant 7 of 10...\n",
      "chr22 47918714 G A\n",
      "Processing variant 8 of 10...\n",
      "chr22 47919267 A G\n",
      "Processing variant 9 of 10...\n",
      "chr22 49919331 C T\n",
      "Processing variant 10 of 10...\n",
      "chr22 49925703 C T\n"
     ]
    }
   ],
   "source": [
    "import os\n",
    "import tensorflow as tf\n",
    "import numpy as np\n",
    "import pandas as pd # Make sure pandas is imported\n",
    "\n",
    "TABLE_VALUE_COLUMN = 'chrombpnet.encsr000emt.variantscore.logfc'\n",
    "\n",
    "# 1. Initialize a list to store the final mean logFC for each variant\n",
    "all_variants_mean_logfc = []\n",
    "total_variants = len(sig_african_df)\n",
    "\n",
    "print(f\"Starting variant scoring for {total_variants} variants...\")\n",
    "print(f\"Original table values will be taken from column: '{TABLE_VALUE_COLUMN}'\")\n",
    "\n",
    "# 2. Loop over each index of the table\n",
    "for idx in range(total_variants):\n",
    "    \n",
    "    # A. Report progress every 50 variants\n",
    "    print(f\"Processing variant {idx + 1} of {total_variants}...\")\n",
    "\n",
    "    # B. Get processed sequences for the current variant\n",
    "    try:\n",
    "        allele1_seq, allele2_seq, allele1_onehot, allele2_onehot, \\\n",
    "        revcomp_allele1_onehot, revcomp_allele2_onehot = get_processed_sequences(idx=idx, revcomp=True)\n",
    "    except Exception as e:\n",
    "        print(f\"Could not process variant at index {idx}. Error: {e}. Appending NaN.\")\n",
    "        all_variants_mean_logfc.append(np.nan)\n",
    "        continue\n",
    "\n",
    "    # C. Store the logFC from each of the 5-fold models for this specific variant\n",
    "    fold_logfc_scores = []\n",
    "\n",
    "    # D. Inner loop to get predictions from each of the 5 models\n",
    "    for i in range(5):\n",
    "        h5_model_path = os.path.join(\n",
    "            BASE_MODEL_DIR,\n",
    "            EXPERIMENT_ID,\n",
    "            f\"fold_{i}\",\n",
    "            f\"model.{MODEL_TYPE}.fold_{i}.{EXPERIMENT_ID}.h5\"\n",
    "        )\n",
    "        model = tf.keras.models.load_model(h5_model_path, compile=False)\n",
    "\n",
    "        # Prepare input tensors\n",
    "        input_tensor_1 = tf.expand_dims(tf.convert_to_tensor(allele1_onehot, dtype=tf.float32), axis=0)\n",
    "        input_tensor_2 = tf.expand_dims(tf.convert_to_tensor(allele2_onehot, dtype=tf.float32), axis=0)\n",
    "        revcomp_input_tensor_1 = tf.expand_dims(tf.convert_to_tensor(revcomp_allele1_onehot, dtype=tf.float32), axis=0)\n",
    "        revcomp_input_tensor_2 = tf.expand_dims(tf.convert_to_tensor(revcomp_allele2_onehot, dtype=tf.float32), axis=0)\n",
    "\n",
    "        # Get predictions\n",
    "        forward_output_1 = model.predict(input_tensor_1, verbose=0)\n",
    "        forward_output_2 = model.predict(input_tensor_2, verbose=0)\n",
    "        revcomp_output_1 = model.predict(revcomp_input_tensor_1, verbose=0)\n",
    "        revcomp_output_2 = model.predict(revcomp_input_tensor_2, verbose=0)\n",
    "\n",
    "        # Average forward and reverse-complement predictions\n",
    "        avg_output_1 = np.average([forward_output_1[1][0][0], revcomp_output_1[1][0][0]], axis=0)\n",
    "        avg_output_2 = np.average([forward_output_2[1][0][0], revcomp_output_2[1][0][0]], axis=0)\n",
    "\n",
    "        # Calculate log-fold change (more numerically stable version)\n",
    "        varscorer_logcount_diff = (avg_output_2 - avg_output_1) / np.log(2)\n",
    "        fold_logfc_scores.append(varscorer_logcount_diff)\n",
    "\n",
    "    # E. Average the logFCs from all 5 folds for the current variant\n",
    "    mean_logfc_for_variant = np.mean(fold_logfc_scores)\n",
    "    \n",
    "    # F. Append the final mean score to our results list\n",
    "    all_variants_mean_logfc.append(mean_logfc_for_variant)"
   ]
  },
  {
   "cell_type": "code",
   "execution_count": 12,
   "id": "e077c7ca-8402-4f43-b79a-fd54ed15a755",
   "metadata": {},
   "outputs": [
    {
     "name": "stdout",
     "output_type": "stream",
     "text": [
      "\n",
      "Variant scoring complete.\n",
      "Comparison of original table values and new predicted values:\n",
      "         dbsnp_rsid  chrombpnet.encsr000emt.variantscore.logfc  predicted_logfc\n",
      "9        rs28540380                                  -0.079933        -0.079714\n",
      "12      rs141671872                                   0.208980         0.209507\n",
      "26        rs7417106                                   0.082127         0.079197\n",
      "60        rs3121577                                   0.027894        -0.027504\n",
      "61        rs2465131                                  -0.034397         0.031735\n",
      "219129    rs5768155                                   0.047690         0.046427\n",
      "219131    rs5768156                                   0.327306         0.344027\n",
      "219133    rs5768157                                   0.045036         0.043677\n",
      "219226    rs9616382                                   0.011548         0.011352\n",
      "219231    rs9627800                                   0.018346        -0.019735\n"
     ]
    },
    {
     "name": "stderr",
     "output_type": "stream",
     "text": [
      "/tmp/ipykernel_188670/851002281.py:4: SettingWithCopyWarning: \n",
      "A value is trying to be set on a copy of a slice from a DataFrame.\n",
      "Try using .loc[row_indexer,col_indexer] = value instead\n",
      "\n",
      "See the caveats in the documentation: https://pandas.pydata.org/pandas-docs/stable/user_guide/indexing.html#returning-a-view-versus-a-copy\n",
      "  sig_african_df['predicted_logfc'] = all_variants_mean_logfc\n"
     ]
    }
   ],
   "source": [
    "# 3. Add the predicted scores as a new column to the DataFrame.\n",
    "# The original \"table value\" is already stored in its own column.\n",
    "print(\"\\nVariant scoring complete.\")\n",
    "sig_african_df['predicted_logfc'] = all_variants_mean_logfc\n",
    "\n",
    "# 4. Display the head of the DataFrame with the original and predicted values side-by-side\n",
    "print(\"Comparison of original table values and new predicted values:\")\n",
    "print(sig_african_df[[\n",
    "\t\"dbsnp_rsid\",\n",
    "    TABLE_VALUE_COLUMN,\n",
    "    'predicted_logfc'\n",
    "]])"
   ]
  },
  {
   "cell_type": "code",
   "execution_count": 17,
   "id": "9489bdc7-7a75-49fb-aa98-f6ec9c6a65ff",
   "metadata": {},
   "outputs": [],
   "source": [
    "import matplotlib.pyplot as plt"
   ]
  },
  {
   "cell_type": "code",
   "execution_count": 32,
   "id": "8d5ea8f7-9638-4a6f-89bd-bfbbfc56c61e",
   "metadata": {},
   "outputs": [
    {
     "data": {
      "image/png": "[encoded data removed]",
      "text/plain": [
       "<Figure size 640x480 with 1 Axes>"
      ]
     },
     "metadata": {},
     "output_type": "display_data"
    }
   ],
   "source": [
    "fig, ax = plt.subplots()\n",
    "ax.axhline(y=0, color = \"black\")\n",
    "ax.axvline(x=0, color = \"black\")\n",
    "ax.axline((0, 0), slope=1, color=\"black\", linestyle=(0, (5, 5)), alpha = 0.5)\n",
    "ax.axline((0, 0), slope=-1, color=\"black\", linestyle=(0, (5, 5)), alpha = 0.5)\n",
    "ax.scatter(sig_african_df['chrombpnet.encsr000emt.variantscore.logfc'], sig_african_df['predicted_logfc'])\n",
    "plt.show()"
   ]
  },
  {
   "cell_type": "code",
   "execution_count": null,
   "id": "77a50cdb-8f67-4649-92cc-07afe9969464",
   "metadata": {},
   "outputs": [],
   "source": []
  }
 ],
 "metadata": {
  "kernelspec": {
   "display_name": "Python [conda env:chrombpnet]",
   "language": "python",
   "name": "conda-env-chrombpnet-py"
  },
  "language_info": {
   "codemirror_mode": {
    "name": "ipython",
    "version": 3
   },
   "file_extension": ".py",
   "mimetype": "text/x-python",
   "name": "python",
   "nbconvert_exporter": "python",
   "pygments_lexer": "ipython3",
   "version": "3.8.18"
  }
 },
 "nbformat": 4,
 "nbformat_minor": 5
}
